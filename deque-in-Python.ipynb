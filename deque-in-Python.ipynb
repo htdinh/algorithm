{
 "cells": [
  {
   "cell_type": "markdown",
   "id": "a8aae689",
   "metadata": {},
   "source": [
    "# Deque overview"
   ]
  },
  {
   "cell_type": "markdown",
   "id": "61e5dbe6",
   "metadata": {},
   "source": [
    "Most of the points below comes from the official Python Guide: https://docs.python.org/3/library/collections.html#collections.deque\n",
    "\n",
    "* Returns a new deque object initialized left-to-right (using append()) with data from iterable => Not affecting the iterable itself. Not in-place.\n",
    "\n",
    "* Deques stands for double-ended queue, which is a generalisation of stacks (First-in-last-out) vs queue (First-in-first-out)\n",
    "\n",
    "* Compare to `list`: list is efficient for retrieval of data given an index, and fixed-length operation. But `list` incurs O(n) memory movement costs for `pop(0)` and `insert(0,v)`. `deque` is efficient in insert or pop element from the queue\n",
    "\n",
    "* When given a `maxlen`, the `deque` is bounded. Once a bounded length deque is full, insertion at one end will kick the element from the other end. "
   ]
  },
  {
   "cell_type": "markdown",
   "id": "df833c0e",
   "metadata": {},
   "source": [
    "# Example\n",
    "* A bounded length deque serves as a sliding window of a fixed length, like below a windows of 3 elements"
   ]
  },
  {
   "cell_type": "code",
   "execution_count": 84,
   "id": "41201165",
   "metadata": {},
   "outputs": [
    {
     "name": "stdout",
     "output_type": "stream",
     "text": [
      "deque([0], maxlen=3)\n",
      "deque([0, 1], maxlen=3)\n",
      "deque([0, 1, 2], maxlen=3)\n",
      "deque([1, 2, 3], maxlen=3)\n",
      "deque([2, 3, 4], maxlen=3)\n",
      "deque([3, 4, 5], maxlen=3)\n",
      "deque([4, 5, 6], maxlen=3)\n",
      "deque([5, 6, 7], maxlen=3)\n",
      "deque([6, 7, 8], maxlen=3)\n",
      "deque([7, 8, 9], maxlen=3)\n"
     ]
    }
   ],
   "source": [
    "nums = [i for i in range(10)]\n",
    "from collections import deque\n",
    "bounded_deque = deque(maxlen=3)\n",
    "for num in nums:\n",
    "    bounded_deque.append(num)\n",
    "    print(bounded_deque)"
   ]
  },
  {
   "cell_type": "markdown",
   "id": "6adb9305",
   "metadata": {},
   "source": [
    "## Problem 1\n",
    "* Find the top 3 highest scores from a list of scores in an exam\n"
   ]
  },
  {
   "cell_type": "code",
   "execution_count": 70,
   "id": "634b9491",
   "metadata": {},
   "outputs": [],
   "source": [
    "test_scores = [10, 9, 6, 7, 9, 1, 6, 5, 2, 10]"
   ]
  },
  {
   "cell_type": "markdown",
   "id": "1ea03974",
   "metadata": {},
   "source": [
    "* `deque` doesn't work because it pop out item without sorting internally\n",
    "* `heapq.nlargest` is the solution"
   ]
  },
  {
   "cell_type": "markdown",
   "id": "30822688",
   "metadata": {},
   "source": [
    "## Problem 2\n",
    "* Find the last `n` lines of a document (like `tail` function in Unix)"
   ]
  },
  {
   "cell_type": "code",
   "execution_count": 71,
   "id": "ad3186ca",
   "metadata": {},
   "outputs": [],
   "source": [
    "from collections import deque"
   ]
  },
  {
   "cell_type": "code",
   "execution_count": 85,
   "id": "96bd2e6e",
   "metadata": {},
   "outputs": [],
   "source": [
    "def tail(file_name, n=10):\n",
    "    with open(file_name, 'r') as f:\n",
    "        return deque(f, n)"
   ]
  },
  {
   "cell_type": "markdown",
   "id": "5daabb6d",
   "metadata": {},
   "source": [
    "# Case study of a solution\n",
    "* [Solution 1](https://leetcode.com/explore/learn/card/fun-with-arrays/521/introduction/3240/discuss/222079/Python-O(N)-10-lines-two-solutions-explained-beats-100)\n",
    "\n",
    "* [Solution 2](https://leetcode.com/explore/learn/card/fun-with-arrays/521/introduction/3240/discuss/310865/Python:-A-comparison-of-lots-of-approaches!-Sorting-two-pointers-deque-iterator-generator)\n",
    "\n",
    "### My own comments\n",
    "* Fastest sort (be it by Python default `sorted()`) could be O(nlogn). But that is on arbitrary list. \n",
    "* On an already sorted list, we should aim for something even faster => To make use of available information "
   ]
  },
  {
   "cell_type": "markdown",
   "id": "397aa53e",
   "metadata": {},
   "source": [
    "### With `deque` as output \n",
    "* Benefit of deque is the O(1) of adding new element (allows us to append elements to the left of answer in O(1) time)\n",
    "* Converting the `deque` to `list`: `list(answer)`"
   ]
  },
  {
   "cell_type": "code",
   "execution_count": 100,
   "id": "9d224b2d",
   "metadata": {},
   "outputs": [],
   "source": [
    "class Solution(object):\n",
    "    def sortedSquares(self, A):\n",
    "        answer = deque()  # Initiate an empty deque object, to store the values in the output\n",
    "        l, r = 0, len(A) - 1  # two pointers, l, r to the left and right end of the deque\n",
    "        while l <= r:  # move the two pointers to the center, until they meet each other\n",
    "            left, right = abs(A[l]), abs(A[r])  # take the absolute values of the two ends\n",
    "            if left > right:\n",
    "                 answer.appendleft(left * left)  # take the bigger one to add to the left of the queue\n",
    "                l += 1  # advance the left end\n",
    "            else:\n",
    "                answer.appendleft(right * right)\n",
    "                r -= 1 # move the right end backward\n",
    "        return list(answer)"
   ]
  },
  {
   "cell_type": "markdown",
   "id": "655af26a",
   "metadata": {},
   "source": [
    "### With list reversal\n",
    "* Otherwise, it works also with `list` with `reverse` method (which cost O(n) cost of memory movement)"
   ]
  },
  {
   "cell_type": "code",
   "execution_count": null,
   "id": "fb4ffb9a",
   "metadata": {},
   "outputs": [],
   "source": [
    "class Solution(object):\n",
    "    def sortedSquares(self, A):\n",
    "        answer = list()  # Initiate an empty deque object, to store the values in the output\n",
    "        l, r = 0, len(A) - 1  # two pointers, l, r to the left and right end of the deque\n",
    "        while l <= r:  # move the two pointers to the center, until they meet each other\n",
    "            left, right = abs(A[l]), abs(A[r])  # take the absolute values of the two ends\n",
    "            if left > right:\n",
    "                answer.append(left*left)\n",
    "                l += 1  # advance the left end\n",
    "            else:\n",
    "                answer.append(right*right)\n",
    "                r -= 1 # move the right end backward\n",
    "        answer.reverse()  # inplace (no extra memory needed), but it returns nothing\n",
    "        return answer # so, if we put return answer.reverse() -> this return nothing"
   ]
  },
  {
   "cell_type": "markdown",
   "id": "206fb8f7",
   "metadata": {},
   "source": [
    "### Without `deque` or `list.reversal`\n",
    "* Make use of the pointers to arrive at the right location of the result array"
   ]
  },
  {
   "cell_type": "code",
   "execution_count": 106,
   "id": "9ceb8ac4",
   "metadata": {},
   "outputs": [],
   "source": [
    "class Solution(object):\n",
    "    def sortedSquares(self, A):\n",
    "        answer = [None] * len(A) # Initiate an empty deque object, to store the values in the output\n",
    "        l, r = 0, len(A) - 1  # two pointers, l, r to the left and right end of the deque\n",
    "        while l <= r:  # move the two pointers to the center, until they meet each other\n",
    "            left, right = abs(A[l]), abs(A[r])  # take the absolute values of the two ends\n",
    "            if left > right:\n",
    "                answer[r-l] = left*left\n",
    "                l += 1  # advance the left end\n",
    "            else:\n",
    "                answer[r-l] = right*right\n",
    "                r -= 1 # move the right end backward\n",
    "\n",
    "        return answer # so, if we put return answer.reverse() -> this return nothing"
   ]
  },
  {
   "cell_type": "markdown",
   "id": "800362d5",
   "metadata": {},
   "source": [
    "### Space complexity of builtin solution\n",
    "* If we want to minimize the space => **in-place** modifying the input array. No need to create extra space for the saving \n",
    "* Different behaviour of `sorted(Array)` vs `Array.sort()`\n",
    "    - `sorted(Array)` is not in-place. This returns a new array\n",
    "    - `Array.sort()` return nothing because it is in-place. The content of the array is overwritten. "
   ]
  },
  {
   "cell_type": "markdown",
   "id": "bc16a444",
   "metadata": {},
   "source": [
    "### With `deque` on input\n",
    "* The elegance will reduce the risk of bug, lead to readable and maintainable code"
   ]
  },
  {
   "cell_type": "code",
   "execution_count": 122,
   "id": "12264e8d",
   "metadata": {},
   "outputs": [],
   "source": [
    "class Solution(object):\n",
    "    def sortedSquares(self, A):\n",
    "        number_deque = deque(A)  # A is left untouched after this point. But number_deque is popped every time\n",
    "        reverse_sorted_squares = []  # Later to be appended\n",
    "        while number_deque:  # If the queue is not empty\n",
    "            left_squares = number_deque[0] ** 2  # power of 2\n",
    "            right_squares = number_deque[-1] ** 2  \n",
    "            if left_squares > right_squares:\n",
    "                reverse_sorted_squares.append(right_squares)  # Adding the smaller one\n",
    "                number_deque.popleft()\n",
    "            else:\n",
    "                reverse_sorted_squares.append(left_squares)  \n",
    "                number_deque.pop()\n",
    "        reverse_sorted_squares.reverse()\n",
    "        print(A)\n",
    "        return reverse_sorted_squares"
   ]
  },
  {
   "cell_type": "code",
   "execution_count": 123,
   "id": "f4c8232f",
   "metadata": {},
   "outputs": [
    {
     "name": "stdout",
     "output_type": "stream",
     "text": [
      "[-4, -1, 0, 3, 10]\n"
     ]
    },
    {
     "data": {
      "text/plain": [
       "[0, 0, 1, 9, 16]"
      ]
     },
     "execution_count": 123,
     "metadata": {},
     "output_type": "execute_result"
    }
   ],
   "source": [
    "nums = [-4,-1,0,3,10]\n",
    "# Expected utputs = [0, 1, 9, 16, 100]\n",
    "sol = Solution()\n",
    "sol.sortedSquares(nums)"
   ]
  },
  {
   "cell_type": "code",
   "execution_count": null,
   "id": "81d7f589",
   "metadata": {},
   "outputs": [],
   "source": []
  }
 ],
 "metadata": {
  "kernelspec": {
   "display_name": "Python 3",
   "language": "python",
   "name": "python3"
  },
  "language_info": {
   "codemirror_mode": {
    "name": "ipython",
    "version": 3
   },
   "file_extension": ".py",
   "mimetype": "text/x-python",
   "name": "python",
   "nbconvert_exporter": "python",
   "pygments_lexer": "ipython3",
   "version": "3.6.13"
  }
 },
 "nbformat": 4,
 "nbformat_minor": 5
}
